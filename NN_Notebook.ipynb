{
 "cells": [
  {
   "cell_type": "code",
   "execution_count": 11,
   "metadata": {},
   "outputs": [],
   "source": [
    "import numpy as np\n",
    "import pandas as pd\n",
    "from matplotlib import pyplot as plt\n",
    "\n",
    "# Load the MNIST dataset\n",
    "data = pd.read_csv('mnist_train.csv')"
   ]
  },
  {
   "cell_type": "code",
   "execution_count": 12,
   "metadata": {},
   "outputs": [],
   "source": [
    "# Convert data to numpy array and shuffle\n",
    "data = np.array(data)\n",
    "m, n = data.shape\n",
    "np.random.shuffle(data) \n",
    "\n",
    "# Prepare development set\n",
    "data_dev = data[0:1000].T\n",
    "Y_dev = data_dev[0]\n",
    "X_dev = data_dev[1:n]\n",
    "X_dev = X_dev / 255.\n",
    "\n",
    "# Prepare training set\n",
    "data_train = data[1000:m].T\n",
    "Y_train = data_train[0]\n",
    "X_train = data_train[1:n]\n",
    "X_train = X_train / 255.\n",
    "_,m_train = X_train.shape"
   ]
  },
  {
   "cell_type": "code",
   "execution_count": 13,
   "metadata": {},
   "outputs": [
    {
     "data": {
      "text/plain": [
       "array([3, 5, 1, ..., 4, 4, 2], dtype=int64)"
      ]
     },
     "execution_count": 13,
     "metadata": {},
     "output_type": "execute_result"
    }
   ],
   "source": [
    "Y_train"
   ]
  },
  {
   "cell_type": "code",
   "execution_count": 14,
   "metadata": {},
   "outputs": [],
   "source": [
    "# Initialize parameters\n",
    "def init_params():\n",
    "    W1 = np.random.rand(10, 784) - 0.5\n",
    "    b1 = np.random.rand(10, 1) - 0.5\n",
    "    W2 = np.random.rand(10, 10) - 0.5\n",
    "    b2 = np.random.rand(10, 1) - 0.5\n",
    "    return W1, b1, W2, b2\n",
    "\n",
    "# Activation functions\n",
    "def ReLU(Z):\n",
    "    return np.maximum(Z, 0)\n",
    "\n",
    "def softmax(Z):\n",
    "    A = np.exp(Z) / sum(np.exp(Z))\n",
    "    return A\n",
    "    \n",
    "# Forward propagation\n",
    "def forward_prop(W1, b1, W2, b2, X):\n",
    "    Z1 = W1.dot(X) + b1\n",
    "    A1 = ReLU(Z1)\n",
    "    Z2 = W2.dot(A1) + b2\n",
    "    A2 = softmax(Z2)\n",
    "    return Z1, A1, Z2, A2\n",
    "\n",
    "def ReLU_deriv(Z):\n",
    "    return Z > 0\n",
    "\n",
    "# One-hot encoding\n",
    "def one_hot(Y):\n",
    "    one_hot_Y = np.zeros((Y.size, Y.max() + 1))\n",
    "    one_hot_Y[np.arange(Y.size), Y] = 1\n",
    "    one_hot_Y = one_hot_Y.T\n",
    "    return one_hot_Y\n",
    "\n",
    "# Backward propagation\n",
    "def backward_prop(Z1, A1, Z2, A2, W1, W2, X, Y):\n",
    "    one_hot_Y = one_hot(Y)\n",
    "    dZ2 = A2 - one_hot_Y\n",
    "    dW2 = 1 / m * dZ2.dot(A1.T)\n",
    "    db2 = 1 / m * np.sum(dZ2)\n",
    "    dZ1 = W2.T.dot(dZ2) * ReLU_deriv(Z1)\n",
    "    dW1 = 1 / m * dZ1.dot(X.T)\n",
    "    db1 = 1 / m * np.sum(dZ1)\n",
    "    return dW1, db1, dW2, db2\n",
    "\n",
    "# Update parameters\n",
    "def update_params(W1, b1, W2, b2, dW1, db1, dW2, db2, alpha):\n",
    "    W1 = W1 - alpha * dW1\n",
    "    b1 = b1 - alpha * db1    \n",
    "    W2 = W2 - alpha * dW2  \n",
    "    b2 = b2 - alpha * db2    \n",
    "    return W1, b1, W2, b2"
   ]
  },
  {
   "cell_type": "code",
   "execution_count": 15,
   "metadata": {},
   "outputs": [],
   "source": [
    "# Get predictions and accuracy\n",
    "def get_predictions(A2):\n",
    "    return np.argmax(A2, 0)\n",
    "\n",
    "def get_accuracy(predictions, Y):\n",
    "    print(predictions, Y)\n",
    "    return np.sum(predictions == Y) / Y.size\n",
    "\n",
    "# Gradient descent for training\n",
    "def gradient_descent(X, Y, alpha, iterations):\n",
    "    W1, b1, W2, b2 = init_params()\n",
    "    for i in range(iterations):\n",
    "        Z1, A1, Z2, A2 = forward_prop(W1, b1, W2, b2, X)\n",
    "        dW1, db1, dW2, db2 = backward_prop(Z1, A1, Z2, A2, W1, W2, X, Y)\n",
    "        W1, b1, W2, b2 = update_params(W1, b1, W2, b2, dW1, db1, dW2, db2, alpha)\n",
    "        if i % 10 == 0:\n",
    "            print(\"Iteration: \", i)\n",
    "            predictions = get_predictions(A2)\n",
    "            print(get_accuracy(predictions, Y))\n",
    "    return W1, b1, W2, b2"
   ]
  },
  {
   "cell_type": "code",
   "execution_count": 16,
   "metadata": {},
   "outputs": [
    {
     "name": "stdout",
     "output_type": "stream",
     "text": [
      "Iteration:  0\n",
      "[8 0 0 ... 0 0 0] [3 5 1 ... 4 4 2]\n",
      "0.07827118644067797\n",
      "Iteration:  10\n",
      "[8 9 1 ... 6 6 0] [3 5 1 ... 4 4 2]\n",
      "0.1186271186440678\n",
      "Iteration:  20\n",
      "[8 9 6 ... 9 6 0] [3 5 1 ... 4 4 2]\n",
      "0.1262542372881356\n",
      "Iteration:  30\n",
      "[8 9 6 ... 9 6 7] [3 5 1 ... 4 4 2]\n",
      "0.1682542372881356\n",
      "Iteration:  40\n",
      "[3 9 6 ... 9 0 7] [3 5 1 ... 4 4 2]\n",
      "0.22764406779661017\n",
      "Iteration:  50\n",
      "[3 8 1 ... 9 0 7] [3 5 1 ... 4 4 2]\n",
      "0.28028813559322036\n",
      "Iteration:  60\n",
      "[3 8 1 ... 9 0 7] [3 5 1 ... 4 4 2]\n",
      "0.3470169491525424\n",
      "Iteration:  70\n",
      "[3 8 1 ... 9 0 7] [3 5 1 ... 4 4 2]\n",
      "0.4094237288135593\n",
      "Iteration:  80\n",
      "[3 3 1 ... 9 0 7] [3 5 1 ... 4 4 2]\n",
      "0.466\n",
      "Iteration:  90\n",
      "[3 3 1 ... 9 0 7] [3 5 1 ... 4 4 2]\n",
      "0.5074576271186441\n",
      "Iteration:  100\n",
      "[3 3 1 ... 9 0 2] [3 5 1 ... 4 4 2]\n",
      "0.5429830508474577\n",
      "Iteration:  110\n",
      "[3 3 1 ... 4 0 2] [3 5 1 ... 4 4 2]\n",
      "0.5724067796610169\n",
      "Iteration:  120\n",
      "[3 3 1 ... 4 0 2] [3 5 1 ... 4 4 2]\n",
      "0.5999152542372881\n",
      "Iteration:  130\n",
      "[3 3 1 ... 4 0 2] [3 5 1 ... 4 4 2]\n",
      "0.6212372881355932\n",
      "Iteration:  140\n",
      "[3 3 1 ... 4 0 2] [3 5 1 ... 4 4 2]\n",
      "0.6381186440677966\n",
      "Iteration:  150\n",
      "[3 3 1 ... 4 0 2] [3 5 1 ... 4 4 2]\n",
      "0.6536440677966102\n",
      "Iteration:  160\n",
      "[3 3 1 ... 4 0 2] [3 5 1 ... 4 4 2]\n",
      "0.6663389830508475\n",
      "Iteration:  170\n",
      "[3 3 1 ... 4 0 2] [3 5 1 ... 4 4 2]\n",
      "0.6789491525423729\n",
      "Iteration:  180\n",
      "[3 3 1 ... 4 0 2] [3 5 1 ... 4 4 2]\n",
      "0.6899322033898305\n",
      "Iteration:  190\n",
      "[3 3 1 ... 4 0 2] [3 5 1 ... 4 4 2]\n",
      "0.7000169491525424\n",
      "Iteration:  200\n",
      "[3 3 1 ... 4 0 2] [3 5 1 ... 4 4 2]\n",
      "0.7100677966101695\n",
      "Iteration:  210\n",
      "[3 3 1 ... 4 0 2] [3 5 1 ... 4 4 2]\n",
      "0.7188474576271187\n",
      "Iteration:  220\n",
      "[3 3 1 ... 4 0 2] [3 5 1 ... 4 4 2]\n",
      "0.7273389830508474\n",
      "Iteration:  230\n",
      "[3 3 1 ... 4 0 2] [3 5 1 ... 4 4 2]\n",
      "0.7347457627118644\n",
      "Iteration:  240\n",
      "[3 3 1 ... 4 4 2] [3 5 1 ... 4 4 2]\n",
      "0.7425084745762712\n",
      "Iteration:  250\n",
      "[3 3 1 ... 4 4 2] [3 5 1 ... 4 4 2]\n",
      "0.7498813559322034\n",
      "Iteration:  260\n",
      "[3 3 1 ... 4 4 2] [3 5 1 ... 4 4 2]\n",
      "0.756542372881356\n",
      "Iteration:  270\n",
      "[3 3 1 ... 4 4 2] [3 5 1 ... 4 4 2]\n",
      "0.761593220338983\n",
      "Iteration:  280\n",
      "[3 3 1 ... 4 4 2] [3 5 1 ... 4 4 2]\n",
      "0.7676101694915254\n",
      "Iteration:  290\n",
      "[3 3 1 ... 4 4 2] [3 5 1 ... 4 4 2]\n",
      "0.7729830508474577\n",
      "Iteration:  300\n",
      "[3 3 1 ... 4 4 2] [3 5 1 ... 4 4 2]\n",
      "0.7780847457627119\n",
      "Iteration:  310\n",
      "[3 3 1 ... 4 4 2] [3 5 1 ... 4 4 2]\n",
      "0.7825593220338983\n",
      "Iteration:  320\n",
      "[3 3 1 ... 4 4 2] [3 5 1 ... 4 4 2]\n",
      "0.7866949152542373\n",
      "Iteration:  330\n",
      "[3 3 1 ... 4 4 2] [3 5 1 ... 4 4 2]\n",
      "0.7909661016949152\n",
      "Iteration:  340\n",
      "[3 3 1 ... 4 4 2] [3 5 1 ... 4 4 2]\n",
      "0.7951016949152543\n",
      "Iteration:  350\n",
      "[3 3 1 ... 4 4 2] [3 5 1 ... 4 4 2]\n",
      "0.7995423728813559\n",
      "Iteration:  360\n",
      "[3 3 1 ... 4 4 2] [3 5 1 ... 4 4 2]\n",
      "0.8031694915254237\n",
      "Iteration:  370\n",
      "[3 3 1 ... 4 4 2] [3 5 1 ... 4 4 2]\n",
      "0.8065423728813559\n",
      "Iteration:  380\n",
      "[3 3 1 ... 4 4 2] [3 5 1 ... 4 4 2]\n",
      "0.8100677966101695\n",
      "Iteration:  390\n",
      "[3 3 1 ... 4 4 2] [3 5 1 ... 4 4 2]\n",
      "0.8131864406779661\n",
      "Iteration:  400\n",
      "[3 3 1 ... 4 4 2] [3 5 1 ... 4 4 2]\n",
      "0.8165762711864407\n",
      "Iteration:  410\n",
      "[3 3 1 ... 4 4 2] [3 5 1 ... 4 4 2]\n",
      "0.8197796610169491\n",
      "Iteration:  420\n",
      "[3 3 1 ... 4 4 2] [3 5 1 ... 4 4 2]\n",
      "0.8228983050847458\n",
      "Iteration:  430\n",
      "[3 3 1 ... 4 4 2] [3 5 1 ... 4 4 2]\n",
      "0.8256271186440678\n",
      "Iteration:  440\n",
      "[3 3 1 ... 4 4 2] [3 5 1 ... 4 4 2]\n",
      "0.8279830508474576\n",
      "Iteration:  450\n",
      "[3 3 1 ... 4 4 2] [3 5 1 ... 4 4 2]\n",
      "0.8300338983050848\n",
      "Iteration:  460\n",
      "[3 3 1 ... 4 4 2] [3 5 1 ... 4 4 2]\n",
      "0.8326101694915254\n",
      "Iteration:  470\n",
      "[3 3 1 ... 4 4 2] [3 5 1 ... 4 4 2]\n",
      "0.8346610169491525\n",
      "Iteration:  480\n",
      "[3 3 1 ... 4 4 2] [3 5 1 ... 4 4 2]\n",
      "0.8364745762711865\n",
      "Iteration:  490\n",
      "[3 3 1 ... 4 4 2] [3 5 1 ... 4 4 2]\n",
      "0.8385762711864406\n"
     ]
    }
   ],
   "source": [
    "# Train the model using gradient descent\n",
    "W1, b1, W2, b2 = gradient_descent(X_train, Y_train, 0.10, 500)"
   ]
  },
  {
   "cell_type": "code",
   "execution_count": 17,
   "metadata": {},
   "outputs": [],
   "source": [
    "def make_predictions(X, W1, b1, W2, b2):\n",
    "    _, _, _, A2 = forward_prop(W1, b1, W2, b2, X)\n",
    "    predictions = get_predictions(A2)\n",
    "    return predictions\n",
    "\n",
    "# Test a single prediction\n",
    "def test_prediction(index, W1, b1, W2, b2):\n",
    "    current_image = X_train[:, index, None]\n",
    "    prediction = make_predictions(X_train[:, index, None], W1, b1, W2, b2)\n",
    "    label = Y_train[index]\n",
    "    print(\"Prediction: \", prediction)\n",
    "    print(\"Label: \", label)\n",
    "    \n",
    "    current_image = current_image.reshape((28, 28)) * 255\n",
    "    plt.gray()\n",
    "    plt.imshow(current_image, interpolation='nearest')\n",
    "    plt.show()"
   ]
  },
  {
   "cell_type": "code",
   "execution_count": 18,
   "metadata": {},
   "outputs": [
    {
     "name": "stdout",
     "output_type": "stream",
     "text": [
      "Prediction:  [3]\n",
      "Label:  3\n"
     ]
    },
    {
     "data": {
      "image/png": "[encoded data removed]",
      "text/plain": [
       "<Figure size 640x480 with 1 Axes>"
      ]
     },
     "metadata": {},
     "output_type": "display_data"
    },
    {
     "name": "stdout",
     "output_type": "stream",
     "text": [
      "Prediction:  [3]\n",
      "Label:  5\n"
     ]
    },
    {
     "data": {
      "image/png": "[encoded data removed]",
      "text/plain": [
       "<Figure size 640x480 with 1 Axes>"
      ]
     },
     "metadata": {},
     "output_type": "display_data"
    },
    {
     "name": "stdout",
     "output_type": "stream",
     "text": [
      "Prediction:  [1]\n",
      "Label:  1\n"
     ]
    },
    {
     "data": {
      "image/png": "[encoded data removed]",
      "text/plain": [
       "<Figure size 640x480 with 1 Axes>"
      ]
     },
     "metadata": {},
     "output_type": "display_data"
    },
    {
     "name": "stdout",
     "output_type": "stream",
     "text": [
      "Prediction:  [8]\n",
      "Label:  8\n"
     ]
    },
    {
     "data": {
      "image/png": "[encoded data removed]",
      "text/plain": [
       "<Figure size 640x480 with 1 Axes>"
      ]
     },
     "metadata": {},
     "output_type": "display_data"
    }
   ],
   "source": [
    "test_prediction(0, W1, b1, W2, b2)\n",
    "test_prediction(1, W1, b1, W2, b2)\n",
    "test_prediction(2, W1, b1, W2, b2)\n",
    "test_prediction(3, W1, b1, W2, b2)"
   ]
  },
  {
   "cell_type": "code",
   "execution_count": 19,
   "metadata": {},
   "outputs": [
    {
     "name": "stdout",
     "output_type": "stream",
     "text": [
      "[6 0 9 7 2 4 9 0 1 8 1 0 9 1 2 2 5 1 0 6 0 1 3 8 5 2 9 0 7 1 0 2 3 7 7 7 5\n",
      " 1 0 6 2 7 3 7 1 1 8 1 9 6 5 8 3 0 9 0 4 3 4 0 7 8 0 3 4 7 5 5 3 4 0 2 8 2\n",
      " 3 0 6 4 4 4 5 8 4 5 1 0 2 5 9 7 1 0 8 9 1 7 9 9 7 9 8 8 0 9 4 9 9 4 2 0 0\n",
      " 1 6 7 4 3 3 0 4 6 2 8 5 1 8 8 8 5 1 5 3 3 1 9 3 0 6 4 1 0 1 3 8 5 8 1 7 9\n",
      " 5 1 9 1 9 3 8 1 5 8 9 8 6 7 1 4 5 7 6 4 6 4 4 6 8 5 1 0 0 8 8 2 2 3 6 0 5\n",
      " 8 8 2 1 1 8 8 7 9 2 2 9 4 0 8 0 0 0 5 4 6 9 7 1 2 9 7 3 0 9 6 4 7 6 1 3 6\n",
      " 7 1 7 9 1 8 5 8 8 0 2 6 1 1 3 8 8 9 8 2 2 2 0 0 8 1 7 1 1 6 7 6 0 4 1 5 3\n",
      " 9 3 9 1 1 8 5 0 3 5 4 8 5 5 5 0 1 7 5 0 2 0 3 4 7 9 0 6 2 7 0 4 5 2 1 0 2\n",
      " 0 4 8 4 3 1 8 1 9 2 5 8 1 8 3 0 3 2 6 1 4 0 6 7 4 8 1 7 2 4 2 8 3 5 3 3 2\n",
      " 3 8 4 6 5 1 5 8 4 3 8 6 4 3 7 8 8 0 4 2 4 7 2 5 2 1 4 7 3 4 4 5 8 1 1 9 1\n",
      " 1 9 1 4 4 3 3 7 2 5 3 0 8 4 1 0 4 5 4 7 8 4 6 9 1 8 0 2 8 5 0 1 6 8 4 2 1\n",
      " 0 6 0 6 4 2 8 3 7 9 8 6 6 2 6 4 2 9 2 4 9 8 2 7 2 0 0 8 1 9 5 3 6 3 7 9 9\n",
      " 4 5 2 1 5 1 1 5 0 8 9 7 5 7 8 8 7 6 5 1 0 4 6 7 3 3 9 2 9 0 7 4 5 0 1 7 9\n",
      " 8 3 8 6 7 3 1 6 9 6 6 1 1 5 9 1 7 1 3 4 7 6 6 2 0 8 1 3 4 5 0 3 1 3 2 2 9\n",
      " 3 6 6 7 9 4 6 8 2 5 6 8 2 4 9 6 5 6 0 0 9 3 5 0 8 0 6 1 9 8 1 0 6 0 8 1 9\n",
      " 3 1 5 3 7 2 2 4 3 0 3 8 9 3 4 9 3 3 7 8 4 5 6 1 2 2 3 1 7 9 6 9 9 7 8 3 4\n",
      " 3 4 1 5 7 7 9 5 5 1 4 6 1 6 7 7 7 7 4 4 5 8 2 6 4 3 9 9 6 8 1 7 8 1 7 9 8\n",
      " 4 4 0 2 0 9 1 6 8 0 5 0 4 3 1 3 2 7 4 1 9 4 0 5 3 3 9 7 4 4 7 5 9 8 2 7 7\n",
      " 6 9 4 1 9 8 9 8 3 5 4 8 1 2 6 9 2 9 9 9 2 3 9 1 9 3 9 5 3 6 2 7 0 3 1 5 2\n",
      " 1 3 6 8 9 6 8 1 5 2 6 9 1 1 7 2 1 6 6 7 0 8 7 8 2 8 4 1 4 0 8 9 0 5 1 1 2\n",
      " 4 0 7 6 3 9 5 3 6 8 3 0 1 0 7 1 9 7 7 1 2 8 6 6 9 4 9 1 3 3 4 0 3 7 4 5 2\n",
      " 1 2 8 7 6 0 3 8 1 8 7 8 9 7 1 7 1 7 9 6 3 1 0 0 0 4 1 3 2 0 1 2 2 9 1 8 4\n",
      " 3 1 6 8 4 0 8 5 6 1 0 6 1 2 4 6 8 2 9 0 2 1 5 8 0 9 3 3 3 8 9 1 1 9 1 2 6\n",
      " 5 7 7 7 1 3 6 3 3 3 7 0 0 5 1 1 5 1 3 8 3 7 2 8 7 2 8 3 8 9 8 7 6 5 5 1 4\n",
      " 7 9 7 0 7 6 2 5 0 6 1 9 3 8 7 0 7 5 0 3 3 6 4 6 3 3 6 7 0 1 8 3 3 9 4 4 7\n",
      " 6 9 7 7 0 2 5 9 8 4 3 3 0 9 2 7 4 8 4 5 8 4 3 9 1 2 4 7 5 7 6 2 7 7 5 6 2\n",
      " 1 8 4 8 5 7 5 9 9 6 2 2 6 7 8 4 2 0 3 9 1 9 0 9 1 3 8 6 9 9 4 2 2 2 1 8 7\n",
      " 5] [6 0 9 7 2 4 9 0 1 8 1 0 9 1 2 3 5 1 0 6 0 1 3 3 5 2 8 0 9 1 0 2 3 7 7 7 8\n",
      " 1 0 6 2 7 3 7 1 1 8 1 7 6 5 8 5 0 9 0 4 3 4 0 7 8 0 3 4 9 5 5 3 4 0 2 8 2\n",
      " 3 0 6 6 4 9 5 3 2 5 1 0 3 5 3 7 1 0 8 9 1 5 4 9 7 9 8 8 0 8 4 9 9 4 7 0 7\n",
      " 7 6 7 4 3 3 0 9 6 2 8 0 1 8 8 8 5 1 5 3 3 1 9 3 8 6 4 1 0 1 3 8 5 2 1 7 9\n",
      " 8 1 9 1 9 3 9 1 3 8 4 8 6 7 6 4 5 2 6 4 8 4 4 3 2 3 1 0 0 8 9 7 7 3 6 2 5\n",
      " 8 8 2 1 1 8 8 7 9 2 2 4 9 0 8 0 0 0 5 9 6 9 9 6 2 6 7 3 0 9 6 4 7 6 8 3 6\n",
      " 7 5 7 9 1 8 5 8 8 0 8 6 1 1 3 5 5 9 8 3 2 2 0 0 8 1 3 1 1 6 7 6 0 9 1 5 3\n",
      " 9 2 9 1 1 8 5 0 3 5 4 1 5 5 5 0 1 7 3 0 2 2 3 4 7 9 0 6 2 7 0 4 5 2 1 0 2\n",
      " 0 4 3 4 8 1 8 1 9 7 5 8 1 8 2 0 3 2 6 1 4 0 4 7 4 8 1 7 2 4 2 2 3 5 9 3 2\n",
      " 3 8 4 6 5 1 5 8 4 3 8 6 4 3 7 8 8 0 4 2 4 7 2 5 2 1 4 7 3 4 1 5 8 1 5 4 1\n",
      " 1 9 1 4 4 3 3 7 2 5 3 0 8 4 1 0 4 5 4 7 8 4 6 7 1 8 0 2 3 5 0 1 6 8 4 2 1\n",
      " 0 6 0 6 4 2 0 3 7 7 8 6 6 2 6 4 2 4 2 9 9 8 2 7 2 0 0 3 1 3 5 5 6 3 7 4 9\n",
      " 4 5 2 1 5 1 9 5 0 8 4 7 3 7 8 0 7 6 3 6 0 4 6 7 3 3 9 2 9 0 7 4 5 0 1 7 9\n",
      " 8 3 8 5 7 3 1 6 9 6 6 1 1 5 9 5 7 1 3 9 7 6 6 2 0 8 9 3 4 5 0 5 1 5 2 2 9\n",
      " 8 6 6 7 9 4 6 8 2 5 6 8 3 4 9 6 5 6 0 0 9 3 5 0 8 2 6 8 9 8 1 0 5 0 5 1 9\n",
      " 3 1 5 3 7 2 2 4 3 4 3 8 9 3 4 4 3 3 7 8 4 5 6 1 2 2 5 1 7 9 6 9 9 7 8 3 9\n",
      " 3 4 1 5 7 7 5 5 5 7 4 6 1 6 7 9 7 7 4 9 5 8 2 6 4 3 9 9 6 8 1 7 8 1 7 9 5\n",
      " 4 4 0 2 0 9 5 6 8 0 8 0 4 3 1 3 2 7 4 8 9 4 0 0 3 3 9 7 4 4 7 3 8 8 9 7 9\n",
      " 6 9 5 1 4 8 4 8 3 5 4 8 1 2 4 9 2 4 7 9 2 3 9 1 9 3 9 5 3 6 2 7 0 2 1 5 2\n",
      " 1 3 6 3 9 6 8 1 9 2 6 9 1 1 7 2 1 6 6 7 2 8 7 8 8 8 2 1 9 0 8 9 0 3 1 1 2\n",
      " 4 0 7 6 3 9 3 3 6 8 3 0 1 0 7 1 8 7 7 1 2 8 6 5 8 4 9 1 3 3 4 0 3 7 4 5 2\n",
      " 1 2 5 5 5 0 5 8 1 8 7 8 3 5 1 7 1 7 9 5 3 1 0 0 0 9 1 3 2 0 1 2 2 9 1 8 4\n",
      " 3 1 5 8 4 0 8 3 6 1 0 6 1 2 4 6 8 2 9 0 5 1 5 8 0 9 3 3 3 8 9 1 1 8 1 2 6\n",
      " 5 7 7 7 5 0 6 5 3 3 7 0 0 5 1 1 0 1 3 8 5 7 2 3 7 2 8 3 8 9 8 7 6 5 5 1 4\n",
      " 7 3 7 0 7 6 2 5 0 6 1 9 8 0 7 0 7 5 0 3 9 6 4 2 3 3 2 7 0 1 3 3 3 9 4 4 7\n",
      " 6 9 7 7 0 2 5 4 8 4 2 3 0 9 2 7 4 8 4 5 8 4 3 9 1 2 4 7 5 7 6 2 7 7 5 6 2\n",
      " 1 8 4 8 5 7 0 9 9 6 9 2 6 9 8 4 2 0 3 9 1 9 0 9 1 3 8 6 9 9 4 2 2 2 8 8 5\n",
      " 5]\n"
     ]
    },
    {
     "data": {
      "text/plain": [
       "0.839"
      ]
     },
     "execution_count": 19,
     "metadata": {},
     "output_type": "execute_result"
    }
   ],
   "source": [
    "# Make predictions on the development set and get accuracy\n",
    "dev_predictions = make_predictions(X_dev, W1, b1, W2, b2)\n",
    "get_accuracy(dev_predictions, Y_dev)"
   ]
  }
 ],
 "metadata": {
  "kernelspec": {
   "display_name": "Python 3",
   "language": "python",
   "name": "python3"
  },
  "language_info": {
   "codemirror_mode": {
    "name": "ipython",
    "version": 3
   },
   "file_extension": ".py",
   "mimetype": "text/x-python",
   "name": "python",
   "nbconvert_exporter": "python",
   "pygments_lexer": "ipython3",
   "version": "3.12.2"
  }
 },
 "nbformat": 4,
 "nbformat_minor": 2
}
